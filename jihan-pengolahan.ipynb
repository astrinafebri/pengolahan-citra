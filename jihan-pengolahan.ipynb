{
 "cells": [
  {
   "cell_type": "code",
   "execution_count": 6,
   "id": "1ef756e7-6e62-49c8-962a-1d6b3bd5102a",
   "metadata": {},
   "outputs": [],
   "source": [
    "import cv2\n",
    "import numpy as np\n",
    "from tkinter import Tk\n",
    "from tkinter.filedialog import askopenfilename\n",
    "\n",
    "def detect_circles(image_path):\n",
    "    # Baca gambar\n",
    "    image = cv2.imread(image_path)\n",
    "    if image is None:\n",
    "        print(\"Gambar tidak ditemukan.\")\n",
    "        return\n",
    "\n",
    "    # Konversi gambar menjadi grayscale\n",
    "    gray = cv2.cvtColor(image, cv2.COLOR_BGR2GRAY)\n",
    "\n",
    "    # Gunakan blur untuk mengurangi noise\n",
    "    gray_blurred = cv2.medianBlur(gray, 5)\n",
    "\n",
    "    # Deteksi lingkaran menggunakan HoughCircles\n",
    "    circles = cv2.HoughCircles(gray_blurred, cv2.HOUGH_GRADIENT, dp=1, minDist=20,\n",
    "                               param1=50, param2=30, minRadius=1, maxRadius=40)\n",
    "\n",
    "    # Jika lingkaran terdeteksi, gambarkan lingkaran pada gambar asli\n",
    "    if circles is not None:\n",
    "        circles = np.uint16(np.around(circles))\n",
    "        for circle in circles[0, :]:\n",
    "            center = (circle[0], circle[1])  # koordinat pusat lingkaran\n",
    "            radius = circle[2]  # jari-jari lingkaran\n",
    "            # Gambar lingkaran pusat\n",
    "            cv2.circle(image, center, 1, (0, 100, 100), 3)\n",
    "            # Gambar lingkaran tepi\n",
    "            cv2.circle(image, center, radius, (255, 0, 255), 3)\n",
    "\n",
    "    # Tampilkan gambar hasil deteksi\n",
    "    cv2.imshow('Detected Circles', image)\n",
    "    cv2.waitKey(0)\n",
    "    cv2.destroyAllWindows()\n",
    "\n",
    "if __name__ == \"__main__\":\n",
    "    # Hapus root window dari Tkinter\n",
    "    Tk().withdraw()\n",
    "    # Buka kotak dialog untuk memilih file\n",
    "    image_path = askopenfilename(title=\"Pilih gambar untuk deteksi lingkaran\",\n",
    "                                 filetypes=[(\"Image files\", \"*.jpg *.jpeg *.png *.bmp *.tiff\")])\n",
    "    if image_path:\n",
    "        detect_circles(image_path)\n",
    "    else:\n",
    "        print(\"Tidak ada gambar yang dipilih.\")\n"
   ]
  },
  {
   "cell_type": "code",
   "execution_count": null,
   "id": "c2e77f91-7f7d-4635-a9f3-4ab160f89cbe",
   "metadata": {},
   "outputs": [],
   "source": []
  }
 ],
 "metadata": {
  "kernelspec": {
   "display_name": "Python 3 (ipykernel)",
   "language": "python",
   "name": "python3"
  },
  "language_info": {
   "codemirror_mode": {
    "name": "ipython",
    "version": 3
   },
   "file_extension": ".py",
   "mimetype": "text/x-python",
   "name": "python",
   "nbconvert_exporter": "python",
   "pygments_lexer": "ipython3",
   "version": "3.12.3"
  }
 },
 "nbformat": 4,
 "nbformat_minor": 5
}
